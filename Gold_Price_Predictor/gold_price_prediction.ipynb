{
 "cells": [
  {
   "cell_type": "code",
   "execution_count": 1,
   "id": "6f85e1e6-7819-43d9-8bb9-4db797abba94",
   "metadata": {},
   "outputs": [],
   "source": [
    "import numpy as np\n",
    "import pandas as pd\n",
    "import matplotlib.pyplot as plt\n",
    "from sklearn.model_selection import train_test_split\n",
    "from sklearn import metrics\n",
    "import seaborn as sns\n",
    "\n",
    "# Linear Regression\n",
    "from sklearn.linear_model import LinearRegression\n",
    "\n",
    "# Lasso Regression\n",
    "from sklearn.linear_model import Lasso\n",
    "\n",
    "# XGBoost Regression\n",
    "from xgboost import XGBRegressor\n",
    "\n",
    "# RandomForest Regression\n",
    "from sklearn.ensemble import RandomForestRegressor\n"
   ]
  },
  {
   "cell_type": "code",
   "execution_count": 2,
   "id": "088ecbaf-3e12-4d0e-84c9-855428c013c1",
   "metadata": {
    "tags": []
   },
   "outputs": [],
   "source": [
    "df = pd.read_csv(\"Dataset/gld_price_data.csv\")"
   ]
  },
  {
   "cell_type": "code",
   "execution_count": 3,
   "id": "d8556bf0-b4c6-4a63-b1c0-e8cebf87e792",
   "metadata": {
    "tags": []
   },
   "outputs": [
    {
     "data": {
      "text/html": [
       "<div>\n",
       "<style scoped>\n",
       "    .dataframe tbody tr th:only-of-type {\n",
       "        vertical-align: middle;\n",
       "    }\n",
       "\n",
       "    .dataframe tbody tr th {\n",
       "        vertical-align: top;\n",
       "    }\n",
       "\n",
       "    .dataframe thead th {\n",
       "        text-align: right;\n",
       "    }\n",
       "</style>\n",
       "<table border=\"1\" class=\"dataframe\">\n",
       "  <thead>\n",
       "    <tr style=\"text-align: right;\">\n",
       "      <th></th>\n",
       "      <th>Date</th>\n",
       "      <th>SPX</th>\n",
       "      <th>GLD</th>\n",
       "      <th>USO</th>\n",
       "      <th>SLV</th>\n",
       "      <th>EUR/USD</th>\n",
       "    </tr>\n",
       "  </thead>\n",
       "  <tbody>\n",
       "    <tr>\n",
       "      <th>0</th>\n",
       "      <td>1/2/2008</td>\n",
       "      <td>1447.160034</td>\n",
       "      <td>84.860001</td>\n",
       "      <td>78.470001</td>\n",
       "      <td>15.180</td>\n",
       "      <td>1.471692</td>\n",
       "    </tr>\n",
       "    <tr>\n",
       "      <th>1</th>\n",
       "      <td>1/3/2008</td>\n",
       "      <td>1447.160034</td>\n",
       "      <td>85.570000</td>\n",
       "      <td>78.370003</td>\n",
       "      <td>15.285</td>\n",
       "      <td>1.474491</td>\n",
       "    </tr>\n",
       "    <tr>\n",
       "      <th>2</th>\n",
       "      <td>1/4/2008</td>\n",
       "      <td>1411.630005</td>\n",
       "      <td>85.129997</td>\n",
       "      <td>77.309998</td>\n",
       "      <td>15.167</td>\n",
       "      <td>1.475492</td>\n",
       "    </tr>\n",
       "    <tr>\n",
       "      <th>3</th>\n",
       "      <td>1/7/2008</td>\n",
       "      <td>1416.180054</td>\n",
       "      <td>84.769997</td>\n",
       "      <td>75.500000</td>\n",
       "      <td>15.053</td>\n",
       "      <td>1.468299</td>\n",
       "    </tr>\n",
       "    <tr>\n",
       "      <th>4</th>\n",
       "      <td>1/8/2008</td>\n",
       "      <td>1390.189941</td>\n",
       "      <td>86.779999</td>\n",
       "      <td>76.059998</td>\n",
       "      <td>15.590</td>\n",
       "      <td>1.557099</td>\n",
       "    </tr>\n",
       "  </tbody>\n",
       "</table>\n",
       "</div>"
      ],
      "text/plain": [
       "       Date          SPX        GLD        USO     SLV   EUR/USD\n",
       "0  1/2/2008  1447.160034  84.860001  78.470001  15.180  1.471692\n",
       "1  1/3/2008  1447.160034  85.570000  78.370003  15.285  1.474491\n",
       "2  1/4/2008  1411.630005  85.129997  77.309998  15.167  1.475492\n",
       "3  1/7/2008  1416.180054  84.769997  75.500000  15.053  1.468299\n",
       "4  1/8/2008  1390.189941  86.779999  76.059998  15.590  1.557099"
      ]
     },
     "execution_count": 3,
     "metadata": {},
     "output_type": "execute_result"
    }
   ],
   "source": [
    "df.head()"
   ]
  },
  {
   "cell_type": "code",
   "execution_count": 4,
   "id": "e9b389f6-5277-4afa-8ff9-7a5ade697779",
   "metadata": {
    "tags": []
   },
   "outputs": [
    {
     "data": {
      "text/html": [
       "<div>\n",
       "<style scoped>\n",
       "    .dataframe tbody tr th:only-of-type {\n",
       "        vertical-align: middle;\n",
       "    }\n",
       "\n",
       "    .dataframe tbody tr th {\n",
       "        vertical-align: top;\n",
       "    }\n",
       "\n",
       "    .dataframe thead th {\n",
       "        text-align: right;\n",
       "    }\n",
       "</style>\n",
       "<table border=\"1\" class=\"dataframe\">\n",
       "  <thead>\n",
       "    <tr style=\"text-align: right;\">\n",
       "      <th></th>\n",
       "      <th>Date</th>\n",
       "      <th>SPX</th>\n",
       "      <th>GLD</th>\n",
       "      <th>USO</th>\n",
       "      <th>SLV</th>\n",
       "      <th>EUR/USD</th>\n",
       "    </tr>\n",
       "  </thead>\n",
       "  <tbody>\n",
       "    <tr>\n",
       "      <th>2285</th>\n",
       "      <td>5/8/2018</td>\n",
       "      <td>2671.919922</td>\n",
       "      <td>124.589996</td>\n",
       "      <td>14.0600</td>\n",
       "      <td>15.5100</td>\n",
       "      <td>1.186789</td>\n",
       "    </tr>\n",
       "    <tr>\n",
       "      <th>2286</th>\n",
       "      <td>5/9/2018</td>\n",
       "      <td>2697.790039</td>\n",
       "      <td>124.330002</td>\n",
       "      <td>14.3700</td>\n",
       "      <td>15.5300</td>\n",
       "      <td>1.184722</td>\n",
       "    </tr>\n",
       "    <tr>\n",
       "      <th>2287</th>\n",
       "      <td>5/10/2018</td>\n",
       "      <td>2723.070068</td>\n",
       "      <td>125.180000</td>\n",
       "      <td>14.4100</td>\n",
       "      <td>15.7400</td>\n",
       "      <td>1.191753</td>\n",
       "    </tr>\n",
       "    <tr>\n",
       "      <th>2288</th>\n",
       "      <td>5/14/2018</td>\n",
       "      <td>2730.129883</td>\n",
       "      <td>124.489998</td>\n",
       "      <td>14.3800</td>\n",
       "      <td>15.5600</td>\n",
       "      <td>1.193118</td>\n",
       "    </tr>\n",
       "    <tr>\n",
       "      <th>2289</th>\n",
       "      <td>5/16/2018</td>\n",
       "      <td>2725.780029</td>\n",
       "      <td>122.543800</td>\n",
       "      <td>14.4058</td>\n",
       "      <td>15.4542</td>\n",
       "      <td>1.182033</td>\n",
       "    </tr>\n",
       "  </tbody>\n",
       "</table>\n",
       "</div>"
      ],
      "text/plain": [
       "           Date          SPX         GLD      USO      SLV   EUR/USD\n",
       "2285   5/8/2018  2671.919922  124.589996  14.0600  15.5100  1.186789\n",
       "2286   5/9/2018  2697.790039  124.330002  14.3700  15.5300  1.184722\n",
       "2287  5/10/2018  2723.070068  125.180000  14.4100  15.7400  1.191753\n",
       "2288  5/14/2018  2730.129883  124.489998  14.3800  15.5600  1.193118\n",
       "2289  5/16/2018  2725.780029  122.543800  14.4058  15.4542  1.182033"
      ]
     },
     "execution_count": 4,
     "metadata": {},
     "output_type": "execute_result"
    }
   ],
   "source": [
    "df.tail(5)"
   ]
  },
  {
   "cell_type": "code",
   "execution_count": 5,
   "id": "e54533ff-47ff-4524-88eb-ac152e0a99b1",
   "metadata": {
    "tags": []
   },
   "outputs": [
    {
     "data": {
      "text/html": [
       "<div>\n",
       "<style scoped>\n",
       "    .dataframe tbody tr th:only-of-type {\n",
       "        vertical-align: middle;\n",
       "    }\n",
       "\n",
       "    .dataframe tbody tr th {\n",
       "        vertical-align: top;\n",
       "    }\n",
       "\n",
       "    .dataframe thead th {\n",
       "        text-align: right;\n",
       "    }\n",
       "</style>\n",
       "<table border=\"1\" class=\"dataframe\">\n",
       "  <thead>\n",
       "    <tr style=\"text-align: right;\">\n",
       "      <th></th>\n",
       "      <th>SPX</th>\n",
       "      <th>GLD</th>\n",
       "      <th>USO</th>\n",
       "      <th>SLV</th>\n",
       "      <th>EUR/USD</th>\n",
       "    </tr>\n",
       "  </thead>\n",
       "  <tbody>\n",
       "    <tr>\n",
       "      <th>count</th>\n",
       "      <td>2290.000000</td>\n",
       "      <td>2290.000000</td>\n",
       "      <td>2290.000000</td>\n",
       "      <td>2290.000000</td>\n",
       "      <td>2290.000000</td>\n",
       "    </tr>\n",
       "    <tr>\n",
       "      <th>mean</th>\n",
       "      <td>1654.315776</td>\n",
       "      <td>122.732875</td>\n",
       "      <td>31.842221</td>\n",
       "      <td>20.084997</td>\n",
       "      <td>1.283653</td>\n",
       "    </tr>\n",
       "    <tr>\n",
       "      <th>std</th>\n",
       "      <td>519.111540</td>\n",
       "      <td>23.283346</td>\n",
       "      <td>19.523517</td>\n",
       "      <td>7.092566</td>\n",
       "      <td>0.131547</td>\n",
       "    </tr>\n",
       "    <tr>\n",
       "      <th>min</th>\n",
       "      <td>676.530029</td>\n",
       "      <td>70.000000</td>\n",
       "      <td>7.960000</td>\n",
       "      <td>8.850000</td>\n",
       "      <td>1.039047</td>\n",
       "    </tr>\n",
       "    <tr>\n",
       "      <th>25%</th>\n",
       "      <td>1239.874969</td>\n",
       "      <td>109.725000</td>\n",
       "      <td>14.380000</td>\n",
       "      <td>15.570000</td>\n",
       "      <td>1.171313</td>\n",
       "    </tr>\n",
       "    <tr>\n",
       "      <th>50%</th>\n",
       "      <td>1551.434998</td>\n",
       "      <td>120.580002</td>\n",
       "      <td>33.869999</td>\n",
       "      <td>17.268500</td>\n",
       "      <td>1.303297</td>\n",
       "    </tr>\n",
       "    <tr>\n",
       "      <th>75%</th>\n",
       "      <td>2073.010070</td>\n",
       "      <td>132.840004</td>\n",
       "      <td>37.827501</td>\n",
       "      <td>22.882500</td>\n",
       "      <td>1.369971</td>\n",
       "    </tr>\n",
       "    <tr>\n",
       "      <th>max</th>\n",
       "      <td>2872.870117</td>\n",
       "      <td>184.589996</td>\n",
       "      <td>117.480003</td>\n",
       "      <td>47.259998</td>\n",
       "      <td>1.598798</td>\n",
       "    </tr>\n",
       "  </tbody>\n",
       "</table>\n",
       "</div>"
      ],
      "text/plain": [
       "               SPX          GLD          USO          SLV      EUR/USD\n",
       "count  2290.000000  2290.000000  2290.000000  2290.000000  2290.000000\n",
       "mean   1654.315776   122.732875    31.842221    20.084997     1.283653\n",
       "std     519.111540    23.283346    19.523517     7.092566     0.131547\n",
       "min     676.530029    70.000000     7.960000     8.850000     1.039047\n",
       "25%    1239.874969   109.725000    14.380000    15.570000     1.171313\n",
       "50%    1551.434998   120.580002    33.869999    17.268500     1.303297\n",
       "75%    2073.010070   132.840004    37.827501    22.882500     1.369971\n",
       "max    2872.870117   184.589996   117.480003    47.259998     1.598798"
      ]
     },
     "execution_count": 5,
     "metadata": {},
     "output_type": "execute_result"
    }
   ],
   "source": [
    "df.describe()"
   ]
  },
  {
   "cell_type": "code",
   "execution_count": 6,
   "id": "34d5d8e3-5f84-40b4-8803-ad8200b236b6",
   "metadata": {
    "tags": []
   },
   "outputs": [
    {
     "name": "stdout",
     "output_type": "stream",
     "text": [
      "<class 'pandas.core.frame.DataFrame'>\n",
      "RangeIndex: 2290 entries, 0 to 2289\n",
      "Data columns (total 6 columns):\n",
      " #   Column   Non-Null Count  Dtype  \n",
      "---  ------   --------------  -----  \n",
      " 0   Date     2290 non-null   object \n",
      " 1   SPX      2290 non-null   float64\n",
      " 2   GLD      2290 non-null   float64\n",
      " 3   USO      2290 non-null   float64\n",
      " 4   SLV      2290 non-null   float64\n",
      " 5   EUR/USD  2290 non-null   float64\n",
      "dtypes: float64(5), object(1)\n",
      "memory usage: 107.5+ KB\n"
     ]
    }
   ],
   "source": [
    "df.info()"
   ]
  },
  {
   "cell_type": "code",
   "execution_count": 7,
   "id": "c233ed44-486d-4215-8400-fbd96635de66",
   "metadata": {
    "tags": []
   },
   "outputs": [
    {
     "data": {
      "text/plain": [
       "(2290, 6)"
      ]
     },
     "execution_count": 7,
     "metadata": {},
     "output_type": "execute_result"
    }
   ],
   "source": [
    "df.shape"
   ]
  },
  {
   "cell_type": "code",
   "execution_count": 8,
   "id": "1e163e0f-b4b6-41e8-bcba-9d83a2632d7b",
   "metadata": {
    "tags": []
   },
   "outputs": [
    {
     "data": {
      "text/plain": [
       "Date       0\n",
       "SPX        0\n",
       "GLD        0\n",
       "USO        0\n",
       "SLV        0\n",
       "EUR/USD    0\n",
       "dtype: int64"
      ]
     },
     "execution_count": 8,
     "metadata": {},
     "output_type": "execute_result"
    }
   ],
   "source": [
    "df.isnull().sum()"
   ]
  },
  {
   "cell_type": "code",
   "execution_count": 9,
   "id": "64af3bec-bd2f-45dc-a55e-b49de9c801bd",
   "metadata": {
    "tags": []
   },
   "outputs": [],
   "source": [
    "# Data visualization\n",
    "\n",
    "sns.set()"
   ]
  },
  {
   "cell_type": "code",
   "execution_count": 10,
   "id": "6ac8c2bb-5afa-4b43-a50f-7adb58a258fa",
   "metadata": {
    "tags": []
   },
   "outputs": [],
   "source": [
    "# Finding the correlation in the dataset\n",
    "# Positive correlation [Duration and calories column (Proportional relation)]\n",
    "# Negative correlation [Indirect relation]\n",
    "\n",
    "correlation = df.corr(numeric_only=True)"
   ]
  },
  {
   "cell_type": "code",
   "execution_count": 11,
   "id": "2c30fa60-3e99-4c62-9cdf-eee5b1a8026c",
   "metadata": {
    "tags": []
   },
   "outputs": [
    {
     "data": {
      "text/plain": [
       "<Axes: >"
      ]
     },
     "execution_count": 11,
     "metadata": {},
     "output_type": "execute_result"
    },
    {
     "data": {
      "image/png": "[encoded data removed]",
      "text/plain": [
       "<Figure size 1000x1000 with 2 Axes>"
      ]
     },
     "metadata": {},
     "output_type": "display_data"
    }
   ],
   "source": [
    "plt.figure(figsize=(10,10))\n",
    "sns.heatmap(correlation, cbar=True, square=True, fmt=\".1f\", annot=True, annot_kws={'size':10}, cmap='Blues')"
   ]
  },
  {
   "cell_type": "code",
   "execution_count": 12,
   "id": "60dc3e31-3d22-4496-a3cf-ff62121a4c52",
   "metadata": {
    "tags": []
   },
   "outputs": [
    {
     "name": "stderr",
     "output_type": "stream",
     "text": [
      "C:\\Users\\mdref\\AppData\\Local\\Temp\\ipykernel_8548\\3672063586.py:1: UserWarning: \n",
      "\n",
      "`distplot` is a deprecated function and will be removed in seaborn v0.14.0.\n",
      "\n",
      "Please adapt your code to use either `displot` (a figure-level function with\n",
      "similar flexibility) or `histplot` (an axes-level function for histograms).\n",
      "\n",
      "For a guide to updating your code to use the new functions, please see\n",
      "https://gist.github.com/mwaskom/de44147ed2974457ad6372750bbe5751\n",
      "\n",
      "  sns.distplot(df[\"SPX\"])\n"
     ]
    },
    {
     "data": {
      "text/plain": [
       "<Axes: xlabel='SPX', ylabel='Density'>"
      ]
     },
     "execution_count": 12,
     "metadata": {},
     "output_type": "execute_result"
    },
    {
     "data": {
      "image/png": "[encoded data removed]",
      "text/plain": [
       "<Figure size 640x480 with 1 Axes>"
      ]
     },
     "metadata": {},
     "output_type": "display_data"
    }
   ],
   "source": [
    "sns.distplot(df[\"SPX\"])"
   ]
  },
  {
   "cell_type": "code",
   "execution_count": 13,
   "id": "89c3377e-8f21-4991-92d8-6efc27b9c48d",
   "metadata": {
    "tags": []
   },
   "outputs": [
    {
     "name": "stderr",
     "output_type": "stream",
     "text": [
      "C:\\Users\\mdref\\AppData\\Local\\Temp\\ipykernel_8548\\2193262130.py:1: UserWarning: \n",
      "\n",
      "`distplot` is a deprecated function and will be removed in seaborn v0.14.0.\n",
      "\n",
      "Please adapt your code to use either `displot` (a figure-level function with\n",
      "similar flexibility) or `histplot` (an axes-level function for histograms).\n",
      "\n",
      "For a guide to updating your code to use the new functions, please see\n",
      "https://gist.github.com/mwaskom/de44147ed2974457ad6372750bbe5751\n",
      "\n",
      "  sns.distplot(df[\"GLD\"])\n"
     ]
    },
    {
     "data": {
      "text/plain": [
       "<Axes: xlabel='GLD', ylabel='Density'>"
      ]
     },
     "execution_count": 13,
     "metadata": {},
     "output_type": "execute_result"
    },
    {
     "data": {
      "image/png": "[encoded data removed]",
      "text/plain": [
       "<Figure size 640x480 with 1 Axes>"
      ]
     },
     "metadata": {},
     "output_type": "display_data"
    }
   ],
   "source": [
    "sns.distplot(df[\"GLD\"])"
   ]
  },
  {
   "cell_type": "code",
   "execution_count": 14,
   "id": "8d4509cd-a9b1-4bec-8d4e-b6258652bef9",
   "metadata": {
    "tags": []
   },
   "outputs": [
    {
     "name": "stderr",
     "output_type": "stream",
     "text": [
      "C:\\Users\\mdref\\AppData\\Local\\Temp\\ipykernel_8548\\517324504.py:1: UserWarning: \n",
      "\n",
      "`distplot` is a deprecated function and will be removed in seaborn v0.14.0.\n",
      "\n",
      "Please adapt your code to use either `displot` (a figure-level function with\n",
      "similar flexibility) or `histplot` (an axes-level function for histograms).\n",
      "\n",
      "For a guide to updating your code to use the new functions, please see\n",
      "https://gist.github.com/mwaskom/de44147ed2974457ad6372750bbe5751\n",
      "\n",
      "  sns.distplot(df[\"USO\"])\n"
     ]
    },
    {
     "data": {
      "text/plain": [
       "<Axes: xlabel='USO', ylabel='Density'>"
      ]
     },
     "execution_count": 14,
     "metadata": {},
     "output_type": "execute_result"
    },
    {
     "data": {
      "image/png": "[encoded data removed]",
      "text/plain": [
       "<Figure size 640x480 with 1 Axes>"
      ]
     },
     "metadata": {},
     "output_type": "display_data"
    }
   ],
   "source": [
    "sns.distplot(df[\"USO\"])"
   ]
  },
  {
   "cell_type": "code",
   "execution_count": null,
   "id": "d942d4f1-1185-468e-96bb-2efead44ff70",
   "metadata": {
    "tags": []
   },
   "outputs": [
    {
     "name": "stderr",
     "output_type": "stream",
     "text": [
      "C:\\Users\\mdref\\AppData\\Local\\Temp\\ipykernel_8548\\3013485620.py:1: UserWarning: \n",
      "\n",
      "`distplot` is a deprecated function and will be removed in seaborn v0.14.0.\n",
      "\n",
      "Please adapt your code to use either `displot` (a figure-level function with\n",
      "similar flexibility) or `histplot` (an axes-level function for histograms).\n",
      "\n",
      "For a guide to updating your code to use the new functions, please see\n",
      "https://gist.github.com/mwaskom/de44147ed2974457ad6372750bbe5751\n",
      "\n",
      "  sns.distplot(df[\"SLV\"])\n"
     ]
    },
    {
     "data": {
      "text/plain": [
       "<Axes: xlabel='SLV', ylabel='Density'>"
      ]
     },
     "execution_count": 15,
     "metadata": {},
     "output_type": "execute_result"
    }
   ],
   "source": [
    "sns.distplot(df[\"SLV\"])"
   ]
  },
  {
   "cell_type": "code",
   "execution_count": null,
   "id": "31efa92b-d4fe-440e-84a4-59aa95579bcd",
   "metadata": {
    "tags": []
   },
   "outputs": [],
   "source": [
    "sns.distplot(df[\"EUR/USD\"])"
   ]
  },
  {
   "cell_type": "code",
   "execution_count": null,
   "id": "b3e03cb2-440f-4baa-b127-b00a694dc9b4",
   "metadata": {
    "tags": []
   },
   "outputs": [],
   "source": [
    "X = df.drop(columns=['Date','GLD'], axis=1)\n",
    "Y = df[\"GLD\"]"
   ]
  },
  {
   "cell_type": "code",
   "execution_count": null,
   "id": "5f4a316c-b109-41c6-8eef-d8093649b0e7",
   "metadata": {
    "tags": []
   },
   "outputs": [],
   "source": [
    "print(X)"
   ]
  },
  {
   "cell_type": "code",
   "execution_count": null,
   "id": "9fc13951-8c93-4eb6-bf4c-9abb7b418d44",
   "metadata": {
    "tags": []
   },
   "outputs": [],
   "source": [
    "print(Y)"
   ]
  },
  {
   "cell_type": "code",
   "execution_count": null,
   "id": "5397dce9-c7dd-4215-9cf4-f6d8949a6a2d",
   "metadata": {
    "tags": []
   },
   "outputs": [],
   "source": [
    "X_train, X_test, Y_train, Y_test = train_test_split(X, Y, test_size = 0.2, random_state = 2)"
   ]
  },
  {
   "cell_type": "code",
   "execution_count": null,
   "id": "7d401918-95c9-494e-9432-85fbb5e5ed22",
   "metadata": {
    "tags": []
   },
   "outputs": [],
   "source": [
    "print(X.shape, X_train.shape, X_test.shape)"
   ]
  },
  {
   "cell_type": "code",
   "execution_count": null,
   "id": "4695353a-be79-4bb0-bdbf-8de32e20743c",
   "metadata": {
    "tags": []
   },
   "outputs": [],
   "source": [
    "# Model Training\n",
    "model1 = LinearRegression()\n",
    "model2 = Lasso()\n",
    "model3 = XGBRegressor()\n",
    "\n",
    "model4 = RandomForestRegressor(n_estimators = 200)"
   ]
  },
  {
   "cell_type": "code",
   "execution_count": null,
   "id": "20c32bdf-355b-4bf3-a84c-cff76f6ad898",
   "metadata": {
    "tags": []
   },
   "outputs": [],
   "source": [
    "model1.fit(X_train, Y_train)"
   ]
  },
  {
   "cell_type": "code",
   "execution_count": null,
   "id": "5c802f26-78d0-47cf-b4c8-94876f31cb82",
   "metadata": {
    "tags": []
   },
   "outputs": [],
   "source": [
    "model2.fit(X_train, Y_train)"
   ]
  },
  {
   "cell_type": "code",
   "execution_count": null,
   "id": "6cc0719f-7db8-4700-b933-49361df93248",
   "metadata": {
    "tags": []
   },
   "outputs": [],
   "source": [
    "model3.fit(X_train, Y_train)"
   ]
  },
  {
   "cell_type": "code",
   "execution_count": null,
   "id": "4db61c35-c041-4e76-8706-e2df1af8bebf",
   "metadata": {
    "tags": []
   },
   "outputs": [],
   "source": [
    "model4.fit(X_train, Y_train)"
   ]
  },
  {
   "cell_type": "code",
   "execution_count": null,
   "id": "e1e2d0e7-84a2-42ef-92e3-efb3229da88a",
   "metadata": {
    "tags": []
   },
   "outputs": [],
   "source": [
    "# Evaluation LR\n",
    "\n",
    "test_data_prediction1 = model1.predict(X_test)"
   ]
  },
  {
   "cell_type": "code",
   "execution_count": null,
   "id": "0a328b7a-5ce1-4219-8fde-d845bf5d8065",
   "metadata": {
    "tags": []
   },
   "outputs": [],
   "source": [
    "print(test_data_prediction1)"
   ]
  },
  {
   "cell_type": "code",
   "execution_count": null,
   "id": "74952b16-9ec0-4e38-a045-3e47ee32276f",
   "metadata": {
    "tags": []
   },
   "outputs": [],
   "source": [
    "r2_error_score_lr = metrics.r2_score(Y_test, test_data_prediction1)"
   ]
  },
  {
   "cell_type": "code",
   "execution_count": null,
   "id": "17043546-0999-493c-9d99-08477064a102",
   "metadata": {
    "tags": []
   },
   "outputs": [],
   "source": [
    "print(\"R Square Error  [Linear Regression]: \", r2_error_score_lr)"
   ]
  },
  {
   "cell_type": "code",
   "execution_count": null,
   "id": "22aa8e42-3745-428f-80a2-d81bb3122635",
   "metadata": {
    "tags": []
   },
   "outputs": [],
   "source": [
    "mean_error_score_lr = metrics.mean_absolute_error(Y_test, test_data_prediction1)"
   ]
  },
  {
   "cell_type": "code",
   "execution_count": null,
   "id": "3c39de2a-0354-4b1c-8363-4b9a801d7cda",
   "metadata": {
    "tags": []
   },
   "outputs": [],
   "source": [
    "print(\"Mean Absolute Error  [Linear Regression]: \", mean_error_score_lr)"
   ]
  },
  {
   "cell_type": "code",
   "execution_count": null,
   "id": "8c806a59-14bd-41ac-98ec-aaa7e45e4b09",
   "metadata": {
    "tags": []
   },
   "outputs": [],
   "source": [
    "# Visualizing the output\n",
    "\n",
    "index = np.arange(len(Y_test))\n",
    "plt.plot(index, Y_test, label=\"Actual Score\", color=\"red\", marker=\"x\")\n",
    "plt.plot(index, test_data_prediction1, label=\"Predicted Score\", color=\"blue\", marker=\"o\")\n",
    "plt.title(\"Actual Score vs Predicted Score\")\n",
    "plt.xlabel(\"Actual Score\")\n",
    "plt.ylabel(\"Predicted Score\")\n",
    "plt.legend()\n",
    "plt.show()"
   ]
  },
  {
   "cell_type": "code",
   "execution_count": null,
   "id": "c04cfb0b-cee8-49cb-9e6a-00d34af6913a",
   "metadata": {
    "tags": []
   },
   "outputs": [],
   "source": [
    "# Evaluation Lasso\n",
    "\n",
    "test_data_prediction2 = model2.predict(X_test)"
   ]
  },
  {
   "cell_type": "code",
   "execution_count": null,
   "id": "d7a598e6-1fc8-42d5-a8a9-16cda3b77c6b",
   "metadata": {
    "tags": []
   },
   "outputs": [],
   "source": [
    "print(test_data_prediction2)"
   ]
  },
  {
   "cell_type": "code",
   "execution_count": null,
   "id": "26dbfcf2-e3d1-4c9b-912e-fd81408adb98",
   "metadata": {
    "tags": []
   },
   "outputs": [],
   "source": [
    "r2_error_score_lar = metrics.r2_score(Y_test, test_data_prediction2)"
   ]
  },
  {
   "cell_type": "code",
   "execution_count": null,
   "id": "ae714987-3245-4b2d-baf6-18f01ead358f",
   "metadata": {
    "tags": []
   },
   "outputs": [],
   "source": [
    "print(\"R Square Error [Lasso Regression]: \", r2_error_score_lar)"
   ]
  },
  {
   "cell_type": "code",
   "execution_count": null,
   "id": "6ada7e64-9222-4003-99dc-dd8d823461b7",
   "metadata": {
    "tags": []
   },
   "outputs": [],
   "source": [
    "mean_error_score_lar = metrics.mean_absolute_error(Y_test, test_data_prediction2)"
   ]
  },
  {
   "cell_type": "code",
   "execution_count": null,
   "id": "92775a63-57fd-437d-91f1-eb89f52b35aa",
   "metadata": {
    "tags": []
   },
   "outputs": [],
   "source": [
    "print(\"Mean Absolute Error [Lasso Regression]: \", mean_error_score_lar)"
   ]
  },
  {
   "cell_type": "code",
   "execution_count": null,
   "id": "3af8675a-fa14-4bda-808f-2db07e9bffef",
   "metadata": {
    "tags": []
   },
   "outputs": [],
   "source": [
    "# Visualizing the output\n",
    "\n",
    "index = np.arange(len(Y_test))\n",
    "plt.plot(index, Y_test, label=\"Actual Score\", color=\"red\", marker=\"x\")\n",
    "plt.plot(index, test_data_prediction2, label=\"Predicted Score\", color=\"blue\", marker=\"o\")\n",
    "plt.title(\"Actual Score vs Predicted Score\")\n",
    "plt.xlabel(\"Actual Score\")\n",
    "plt.ylabel(\"Predicted Score\")\n",
    "plt.legend()\n",
    "plt.show()"
   ]
  },
  {
   "cell_type": "code",
   "execution_count": null,
   "id": "d26023fd-3d74-49be-8565-74354378f875",
   "metadata": {},
   "outputs": [],
   "source": [
    "# Model Evaluation XGBoostRegression\n",
    "\n",
    "test_data_prediction3 = model3.predict(X_test)"
   ]
  },
  {
   "cell_type": "code",
   "execution_count": null,
   "id": "1f7e36cb-f9af-45d5-b749-176484fd1abd",
   "metadata": {
    "tags": []
   },
   "outputs": [],
   "source": [
    "print(test_data_prediction3)"
   ]
  },
  {
   "cell_type": "code",
   "execution_count": null,
   "id": "ae746368-458e-4ce4-9131-18169eb65160",
   "metadata": {
    "tags": []
   },
   "outputs": [],
   "source": [
    "r2_error_score_xgb = metrics.r2_score(Y_test, test_data_prediction3)"
   ]
  },
  {
   "cell_type": "code",
   "execution_count": null,
   "id": "aa55e59f-1296-4076-acd4-40ab3eccde2f",
   "metadata": {
    "tags": []
   },
   "outputs": [],
   "source": [
    "print(\"R Sqaure Error [XGBoost Regression]: \", r2_error_score_xgb)"
   ]
  },
  {
   "cell_type": "code",
   "execution_count": null,
   "id": "3cacfabf-1097-44c7-a3c4-d77a56c2b73c",
   "metadata": {
    "tags": []
   },
   "outputs": [],
   "source": [
    "mean_error_score_xgb = metrics.mean_absolute_error(Y_test, test_data_prediction3)"
   ]
  },
  {
   "cell_type": "code",
   "execution_count": null,
   "id": "56ce46cc-fa2d-4d27-8fe7-c5fda8918706",
   "metadata": {
    "tags": []
   },
   "outputs": [],
   "source": [
    "print(\"Mean Absolute Error [XGBoost Regression]: \", mean_error_score_xgb)"
   ]
  },
  {
   "cell_type": "code",
   "execution_count": null,
   "id": "b00acc61-e501-497d-b040-9d3b1d64b4e1",
   "metadata": {
    "tags": []
   },
   "outputs": [],
   "source": [
    "# Visualizing the output\n",
    "\n",
    "index = np.arange(len(Y_test))\n",
    "plt.plot(index, Y_test, label=\"Actual Score\", color=\"red\", marker=\"x\")\n",
    "plt.plot(index, test_data_prediction3, label=\"Predicted Score\", color=\"blue\", marker=\"o\")\n",
    "plt.title(\"Actual Score vs Predicted Score\")\n",
    "plt.xlabel(\"Actual Score\")\n",
    "plt.ylabel(\"Predicted Score\")\n",
    "plt.legend()\n",
    "plt.show()"
   ]
  },
  {
   "cell_type": "code",
   "execution_count": null,
   "id": "aa5b0b2a-6e89-4275-8f31-ea174a956e67",
   "metadata": {
    "tags": []
   },
   "outputs": [],
   "source": [
    "# Model Evaluation XGBoostRegression\n",
    "\n",
    "test_data_prediction4 = model4.predict(X_test)"
   ]
  },
  {
   "cell_type": "code",
   "execution_count": null,
   "id": "603b53b2-8b6f-49e3-84eb-9fa15c505000",
   "metadata": {
    "tags": []
   },
   "outputs": [],
   "source": [
    "print(test_data_prediction4)"
   ]
  },
  {
   "cell_type": "code",
   "execution_count": null,
   "id": "876cd628-88c7-4bc2-8b0c-1590511da09d",
   "metadata": {
    "tags": []
   },
   "outputs": [],
   "source": [
    "r2_error_score_rf = metrics.r2_score(Y_test, test_data_prediction4)"
   ]
  },
  {
   "cell_type": "code",
   "execution_count": null,
   "id": "249f1210-620a-4cc7-8800-d4899ca4f946",
   "metadata": {
    "tags": []
   },
   "outputs": [],
   "source": [
    "print(\"R Square Error [Random Forest Regression]: \", r2_error_score_rf)"
   ]
  },
  {
   "cell_type": "code",
   "execution_count": null,
   "id": "c4098127-57e9-415a-8410-5399963df1e7",
   "metadata": {
    "tags": []
   },
   "outputs": [],
   "source": [
    "mean_error_score_rf = metrics.mean_absolute_error(Y_test, test_data_prediction4)\n",
    "\n",
    "print(\"Mean Absolute Error [Random Forest Regression]: \", mean_error_score_rf)"
   ]
  },
  {
   "cell_type": "code",
   "execution_count": null,
   "id": "89bd3e77-4259-450b-8d55-4734181fdd5f",
   "metadata": {
    "tags": []
   },
   "outputs": [],
   "source": [
    "# Visualizing the output\n",
    "\n",
    "index = np.arange(len(Y_test))\n",
    "plt.plot(index, Y_test, label=\"Actual Score\", color=\"red\", marker=\"x\")\n",
    "plt.plot(index, test_data_prediction4, label=\"Predicted Score\", color=\"blue\", marker=\"o\")\n",
    "plt.title(\"Actual Score vs Predicted Score\")\n",
    "plt.xlabel(\"Actual Score\")\n",
    "plt.ylabel(\"Predicted Score\")\n",
    "plt.legend()\n",
    "plt.show()"
   ]
  },
  {
   "cell_type": "code",
   "execution_count": null,
   "id": "3f3f87e0-d300-470b-80fd-a07a0392d9da",
   "metadata": {},
   "outputs": [],
   "source": []
  }
 ],
 "metadata": {
  "kernelspec": {
   "display_name": "Python 3 (ipykernel)",
   "language": "python",
   "name": "python3"
  },
  "language_info": {
   "codemirror_mode": {
    "name": "ipython",
    "version": 3
   },
   "file_extension": ".py",
   "mimetype": "text/x-python",
   "name": "python",
   "nbconvert_exporter": "python",
   "pygments_lexer": "ipython3",
   "version": "3.11.4"
  },
  "widgets": {
   "application/vnd.jupyter.widget-state+json": {
    "state": {},
    "version_major": 2,
    "version_minor": 0
   }
  }
 },
 "nbformat": 4,
 "nbformat_minor": 5
}
